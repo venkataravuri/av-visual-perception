{
 "cells": [
  {
   "cell_type": "code",
   "execution_count": null,
   "metadata": {},
   "outputs": [],
   "source": [
    "!sudo lshw -c video"
   ]
  },
  {
   "cell_type": "code",
   "execution_count": null,
   "metadata": {},
   "outputs": [],
   "source": [
    "!sudo apt-get install -y ubuntu-drivers-common\n",
    "!sudo ubuntu-drivers install"
   ]
  },
  {
   "cell_type": "code",
   "execution_count": null,
   "metadata": {},
   "outputs": [],
   "source": [
    "!nvidia-smi"
   ]
  },
  {
   "cell_type": "code",
   "execution_count": null,
   "metadata": {},
   "outputs": [],
   "source": [
    "!sudo apt-get update -y\n",
    "!sudo apt-get install build-essential libgl1 unzip -y\n",
    "!sudo apt-get install linux-headers-$(uname -r)"
   ]
  },
  {
   "cell_type": "code",
   "execution_count": null,
   "metadata": {},
   "outputs": [],
   "source": [
    "# Verify machine has CUDA-Capable GPU\n",
    "!lspci | grep -i nvidia\n",
    "# Verify You Have a Supported Version of Linux\n",
    "!uname -m && cat /etc/*release\n",
    "# Verify the System Has gcc Installed\n",
    "!gcc --version"
   ]
  },
  {
   "cell_type": "code",
   "execution_count": null,
   "metadata": {},
   "outputs": [],
   "source": [
    "!sudo apt-get install nvidia-cuda-toolkit -y"
   ]
  },
  {
   "cell_type": "code",
   "execution_count": null,
   "metadata": {},
   "outputs": [],
   "source": [
    "!nvcc --version"
   ]
  },
  {
   "cell_type": "code",
   "execution_count": null,
   "metadata": {},
   "outputs": [],
   "source": [
    "!pip install roboflow\n",
    "!pip install scikit-learn"
   ]
  },
  {
   "cell_type": "code",
   "execution_count": null,
   "metadata": {},
   "outputs": [],
   "source": [
    "!curl -L \"https://public.roboflow.com/ds/6ALz0XTXWU?key=gsuqK50eH7\" > roboflow.zip"
   ]
  },
  {
   "cell_type": "code",
   "execution_count": null,
   "metadata": {},
   "outputs": [],
   "source": [
    "!unzip roboflow.zip -d data/\n",
    "!rm roboflow.zip"
   ]
  },
  {
   "cell_type": "code",
   "execution_count": null,
   "metadata": {},
   "outputs": [],
   "source": [
    "# Download YOLOv7 repository and install requirements\n",
    "!git clone https://github.com/WongKinYiu/yolov7\n",
    "%cd yolov7\n",
    "!pip install -r requirements.txt"
   ]
  },
  {
   "cell_type": "code",
   "execution_count": null,
   "metadata": {},
   "outputs": [],
   "source": [
    "# Read images and labels\n",
    "import os\n",
    "from sklearn.model_selection import train_test_split\n",
    "images = [os.path.join('../data/export/images/', x) for x in os.listdir('../data/export/images/') if x[-3:] == 'jpg']\n",
    "labels= [os.path.join('../data/export/labels/', x) for x in os.listdir('../data/export/labels/') if x[-3:] == \"txt\"]\n",
    "images.sort()\n",
    "labels.sort()# Split the dataset into train, valid and test splits \n",
    "train_images, val_images, train_labels, val_labels = train_test_split(images, labels, test_size = 0.3, random_state = 1234)\n",
    "val_images, test_images, val_labels, test_labels = train_test_split(val_images, val_labels, test_size = 0.5, random_state = 1234)"
   ]
  },
  {
   "cell_type": "code",
   "execution_count": null,
   "metadata": {},
   "outputs": [],
   "source": [
    "!mkdir ../data/export/images/train ../data/export/images/val ../data/export/images/test ../data/export/labels/train ../data/export/labels/val ../data/export/labels/test"
   ]
  },
  {
   "cell_type": "code",
   "execution_count": null,
   "metadata": {},
   "outputs": [],
   "source": [
    "import shutil#Utility function to move images \n",
    "def move_files_to_folder(list_of_files, destination_folder):\n",
    "    for f in list_of_files:\n",
    "        try:\n",
    "            shutil.move(f, destination_folder)\n",
    "        except:\n",
    "            print(f)\n",
    "            assert False# Move the splits into their folders\n",
    "move_files_to_folder(train_images, '../data/export/images/train')\n",
    "move_files_to_folder(val_images, '../data/export/images/val/')\n",
    "move_files_to_folder(test_images, '../data/export/images/test/')\n",
    "move_files_to_folder(train_labels, '../data/export/labels/train/')\n",
    "move_files_to_folder(val_labels, '../data/export/labels/val/')\n",
    "move_files_to_folder(test_labels, '../data/export/labels/test/')"
   ]
  },
  {
   "cell_type": "code",
   "execution_count": null,
   "metadata": {},
   "outputs": [],
   "source": [
    "!python train.py --batch 32 --cfg cfg/training/yolov7.yaml --epochs 25 --data ../data/data.yaml --weights 'yolov7.pt' --device 0"
   ]
  }
 ],
 "metadata": {
  "kernelspec": {
   "display_name": ".venv",
   "language": "python",
   "name": "python3"
  },
  "language_info": {
   "codemirror_mode": {
    "name": "ipython",
    "version": 3
   },
   "file_extension": ".py",
   "mimetype": "text/x-python",
   "name": "python",
   "nbconvert_exporter": "python",
   "pygments_lexer": "ipython3",
   "version": "3.9.19"
  }
 },
 "nbformat": 4,
 "nbformat_minor": 2
}
